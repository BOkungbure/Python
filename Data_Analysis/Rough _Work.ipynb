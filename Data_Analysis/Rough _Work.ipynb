{
 "cells": [
  {
   "cell_type": "markdown",
   "id": "e2ace3c8",
   "metadata": {},
   "source": [
    "#Python Practise"
   ]
  },
  {
   "cell_type": "code",
   "execution_count": 1,
   "id": "e2a5f6c6",
   "metadata": {},
   "outputs": [
    {
     "name": "stdout",
     "output_type": "stream",
     "text": [
      "Variable a is of Type <class 'float'>, while variable b is of type <class 'int'>\n",
      "Division of a by b results in type: <class 'float'>, the result is 0.75\n"
     ]
    },
    {
     "data": {
      "text/plain": [
       "True"
      ]
     },
     "execution_count": 1,
     "metadata": {},
     "output_type": "execute_result"
    }
   ],
   "source": [
    "a = 4.5\n",
    "b = 6\n",
    "\n",
    "print(f'Variable a is of Type {type(a)}, while variable b is of type {type(b)}')\n",
    "\n",
    "\n",
    "print(f'Division of a by b results in type: {type(a/b)}, the result is {a/b}')\n",
    "\n",
    "\n",
    "isinstance(a, (str, dict, int, float))"
   ]
  },
  {
   "cell_type": "code",
   "execution_count": 2,
   "id": "8733baf5",
   "metadata": {},
   "outputs": [
    {
     "name": "stdout",
     "output_type": "stream",
     "text": [
      "Now printing the contents of the data variable:{data}\n",
      "[1, 2, 3]\n",
      "Now printing the contents of the b variable:{b}\n",
      "[1, 2, 3]\n",
      "[1, 2, 3, 6]\n"
     ]
    }
   ],
   "source": [
    "data = [1,2,3]\n",
    "\n",
    "print(f'Now printing the contents of the ''data'' variable:{data}')\n",
    "print(data)\n",
    "\n",
    "\n",
    "b = data\n",
    "\n",
    "\n",
    "print(f'Now printing the contents of the ''b'' variable:{b}')\n",
    "\n",
    "print(b)\n",
    "\n",
    "data.append(6)\n",
    "\n",
    "print(b)\n"
   ]
  },
  {
   "cell_type": "code",
   "execution_count": 3,
   "id": "ea517ba9",
   "metadata": {},
   "outputs": [
    {
     "name": "stdout",
     "output_type": "stream",
     "text": [
      "\n",
      "The following are mutable\n",
      "--------------------------\n",
      "- Lists\n",
      "- Dictionaries\n",
      "- NumPy Arrays\n",
      "\n",
      "The following are not mutable\n",
      "------------------------------\n",
      "- Strings\n",
      "- Tuples\n",
      "- Frozensets\n",
      "- Namedtuples\n",
      "- Dataclasses\n",
      "\n"
     ]
    }
   ],
   "source": [
    "# String Methods\n",
    "\n",
    "a = \"Hello, World!\"\n",
    "\n",
    "b = \"\"\"\n",
    "The following are mutable\n",
    "--------------------------\n",
    "- Lists\n",
    "- Dictionaries\n",
    "- NumPy Arrays\n",
    "\n",
    "The following are not mutable\n",
    "------------------------------\n",
    "- Strings\n",
    "- Tuples\n",
    "- Frozensets\n",
    "- Namedtuples\n",
    "- Dataclasses\n",
    "\"\"\"          \n",
    "\n",
    "print(b)"
   ]
  },
  {
   "cell_type": "code",
   "execution_count": 4,
   "id": "16227a0d",
   "metadata": {},
   "outputs": [],
   "source": [
    "def add_and_maybe_multiply (a, b, c=None):\n",
    "    \"\"\"    This is a test to see what is in doc strings \"\"\"\n",
    "    result = a + b\n",
    "    if c is not None:\n",
    "        result = result * c\n",
    "    return result"
   ]
  },
  {
   "cell_type": "code",
   "execution_count": 5,
   "id": "273e510d",
   "metadata": {},
   "outputs": [
    {
     "data": {
      "text/plain": [
       "'    This is a test to see what is in doc strings '"
      ]
     },
     "execution_count": 5,
     "metadata": {},
     "output_type": "execute_result"
    }
   ],
   "source": [
    "add_and_maybe_multiply.__doc__"
   ]
  },
  {
   "cell_type": "code",
   "execution_count": 6,
   "id": "76e0d537",
   "metadata": {},
   "outputs": [
    {
     "data": {
      "text/plain": [
       "615"
      ]
     },
     "execution_count": 6,
     "metadata": {},
     "output_type": "execute_result"
    }
   ],
   "source": [
    "add_and_maybe_multiply(2,3,123)"
   ]
  },
  {
   "cell_type": "code",
   "execution_count": 7,
   "id": "736606c7",
   "metadata": {},
   "outputs": [],
   "source": [
    "from datetime import datetime, date, time"
   ]
  },
  {
   "cell_type": "code",
   "execution_count": 8,
   "id": "af7295ee",
   "metadata": {},
   "outputs": [
    {
     "name": "stdout",
     "output_type": "stream",
     "text": [
      "2020-05-17 12:30:45\n",
      "2020-05-17\n",
      "12:30:45\n",
      "17\n",
      "5\n",
      "2020\n",
      "-----------------------\n",
      "2020-05-17 12:30\n"
     ]
    }
   ],
   "source": [
    "dt = datetime(2020, 5, 17, 12, 30, 45)\n",
    "print(dt)\n",
    "print(dt.date())\n",
    "print(dt.time())\n",
    "print(dt.day)\n",
    "print(dt.month)\n",
    "print(dt.year)\n",
    "\n",
    "\n",
    "print(\"-----------------------\")\n",
    "\n",
    "print(dt.strftime(\"%Y-%m-%d %H:%M\"))"
   ]
  },
  {
   "cell_type": "code",
   "execution_count": 9,
   "id": "5e85eb91",
   "metadata": {},
   "outputs": [
    {
     "name": "stdout",
     "output_type": "stream",
     "text": [
      "-----------------------\n",
      "2021-06-18 14:45:30\n",
      "2020-05-17 12:30:45\n"
     ]
    }
   ],
   "source": [
    "dt.strptime(\"202005\", \"%Y%m\")\n",
    "\n",
    "print(\"-----------------------\")\n",
    "\n",
    "print(dt.replace(year=2021, month=6, day=18, hour=14, minute=45, second=30))\n",
    "print(dt)"
   ]
  },
  {
   "cell_type": "code",
   "execution_count": 10,
   "id": "6bacbfb9",
   "metadata": {},
   "outputs": [
    {
     "name": "stdout",
     "output_type": "stream",
     "text": [
      "183 days, 0:00:00\n",
      "2026-03-10 00:00:00\n"
     ]
    }
   ],
   "source": [
    "dt1 = datetime(2025, 3, 9)\n",
    "dt2 = datetime(2025, 9, 8)\n",
    "\n",
    "delta = dt2 - dt1\n",
    "print(delta)\n",
    "\n",
    "dt3 = dt2 + delta\n",
    "dt3\n",
    "print(dt3)"
   ]
  },
  {
   "cell_type": "code",
   "execution_count": 11,
   "id": "aa1e0f9d",
   "metadata": {},
   "outputs": [
    {
     "name": "stdout",
     "output_type": "stream",
     "text": [
      "x is positive and less than 5\n"
     ]
    }
   ],
   "source": [
    "x = 3\n",
    "if x < 0:\n",
    "    print(\"x is negative\")\n",
    "elif x == 0:\n",
    "    print(\"x is zero\")\n",
    "elif 0 < x < 5:\n",
    "    print(\"x is positive and less than 5\")\n",
    "else:\n",
    "    print(\"x is positive and greater than or equal to 5\")"
   ]
  },
  {
   "cell_type": "code",
   "execution_count": 12,
   "id": "15e96e4e",
   "metadata": {},
   "outputs": [
    {
     "name": "stdout",
     "output_type": "stream",
     "text": [
      "Doesn't meet any conditions\n"
     ]
    }
   ],
   "source": [
    "a = 5; b = 2\n",
    "c = 8; d = 10\n",
    "\n",
    "if a < b or c > d:\n",
    "    print(\"made it\")\n",
    "else:\n",
    "    print(\"Doesn't meet any conditions\")"
   ]
  },
  {
   "cell_type": "code",
   "execution_count": 13,
   "id": "228820b5",
   "metadata": {},
   "outputs": [
    {
     "name": "stdout",
     "output_type": "stream",
     "text": [
      "1\n",
      "3\n",
      "7\n",
      "12\n",
      "12\n"
     ]
    }
   ],
   "source": [
    "sequence = [1,2,None,4,None,5]\n",
    "total = 0\n",
    "\n",
    "for value in sequence:\n",
    "    if value is None:\n",
    "        continue\n",
    "    total = total + value\n",
    "# return total\n",
    "    print(total) # Within the indent returns the total everytime the loop runs\n",
    "print(total) # Outside the loop returns the final total"
   ]
  },
  {
   "cell_type": "code",
   "execution_count": 15,
   "id": "ca312a75",
   "metadata": {},
   "outputs": [
    {
     "name": "stdout",
     "output_type": "stream",
     "text": [
      "10\n"
     ]
    }
   ],
   "source": [
    "sequence = [1,2,0,3,0,4,5, 12, 32, 23]\n",
    "total = 0\n",
    "\n",
    "for value in sequence:\n",
    "    if value == 5:\n",
    "        break\n",
    "    total = total + value\n",
    "    # print(total)\n",
    "print(total)"
   ]
  },
  {
   "cell_type": "code",
   "execution_count": 21,
   "id": "e4ebe45d",
   "metadata": {},
   "outputs": [
    {
     "name": "stdout",
     "output_type": "stream",
     "text": [
      "Encountered letter: X\n",
      "Encountered letter: W\n",
      "Encountered letter: E\n",
      "Encountered letter: S\n",
      "Encountered letter: t\n",
      "Encountered letter: u\n",
      "Encountered letter: n\n",
      "Encountered letter: d\n",
      "Encountered letter: e\n",
      "Total letters processed: 1\n",
      "Encountered letter: X\n",
      "Encountered letter: W\n",
      "Encountered letter: E\n",
      "Encountered letter: S\n",
      "Encountered letter: t\n",
      "Encountered letter: u\n",
      "Encountered letter: n\n",
      "Encountered letter: d\n",
      "Encountered letter: e\n",
      "Total letters processed: 2\n",
      "Encountered letter: X\n",
      "Encountered letter: W\n",
      "Encountered letter: E\n",
      "Encountered letter: S\n",
      "Encountered letter: t\n",
      "Encountered letter: u\n",
      "Encountered letter: n\n",
      "Encountered letter: d\n",
      "Encountered letter: e\n",
      "Total letters processed: 3\n",
      "Encountered letter: X\n",
      "Encountered letter: W\n",
      "Encountered letter: E\n",
      "Encountered letter: S\n",
      "Encountered letter: t\n",
      "Encountered letter: u\n",
      "Encountered letter: n\n",
      "Encountered letter: d\n",
      "Encountered letter: e\n",
      "Total letters processed: 4\n",
      "Encountered letter: X\n",
      "Encountered letter: W\n",
      "Encountered letter: E\n",
      "Encountered letter: S\n",
      "Encountered letter: t\n",
      "Encountered letter: u\n",
      "Encountered letter: n\n",
      "Encountered letter: d\n",
      "Encountered letter: e\n",
      "Total letters processed: 5\n",
      "Encountered letter: X\n",
      "Encountered letter: W\n",
      "Encountered letter: E\n",
      "Encountered letter: S\n",
      "Encountered letter: t\n",
      "Encountered letter: u\n",
      "Encountered letter: n\n",
      "Encountered letter: d\n",
      "Encountered letter: e\n",
      "Total letters processed: 6\n",
      "Encountered letter: X\n",
      "Encountered letter: W\n",
      "Encountered letter: E\n",
      "Encountered letter: S\n",
      "Encountered letter: t\n",
      "Encountered letter: u\n",
      "Encountered letter: n\n",
      "Encountered letter: d\n",
      "Encountered letter: e\n",
      "Total letters processed: 7\n",
      "Encountered letter: X\n",
      "Encountered letter: W\n",
      "Encountered letter: E\n",
      "Encountered letter: S\n",
      "Encountered letter: t\n",
      "Encountered letter: u\n",
      "Encountered letter: n\n",
      "Encountered letter: d\n",
      "Encountered letter: e\n",
      "Total letters processed: 8\n",
      "Encountered letter: X\n",
      "Encountered letter: W\n",
      "Encountered letter: E\n",
      "Encountered letter: S\n",
      "Encountered letter: t\n",
      "Encountered letter: u\n",
      "Encountered letter: n\n",
      "Encountered letter: d\n",
      "Encountered letter: e\n",
      "Total letters processed: 9\n"
     ]
    }
   ],
   "source": [
    "name = \"XWEStunde\"\n",
    "count = 0\n",
    "\n",
    "\n",
    "for letter in name:\n",
    "    for letter in name:\n",
    "        if letter == \"a\" or letter == \"b\":\n",
    "            break\n",
    "        print(\"Encountered letter:\", letter)\n",
    "    count = count + 1\n",
    "    print(\"Total letters processed:\", count)"
   ]
  },
  {
   "cell_type": "code",
   "execution_count": 26,
   "id": "db6506f6",
   "metadata": {},
   "outputs": [
    {
     "name": "stdout",
     "output_type": "stream",
     "text": [
      "2\n",
      "2\n",
      "2\n",
      "2\n",
      "2\n",
      "2\n",
      "2\n",
      "2\n",
      "2\n",
      "2\n",
      "2\n",
      "2\n",
      "2\n",
      "2\n",
      "2\n",
      "2\n",
      "2\n",
      "2\n",
      "2\n",
      "2\n",
      "2\n",
      "2\n",
      "2\n",
      "2\n",
      "2\n",
      "2\n",
      "2\n",
      "2\n",
      "2\n",
      "2\n",
      "2\n",
      "2\n",
      "2\n",
      "2\n",
      "2\n",
      "2\n",
      "2\n",
      "2\n",
      "2\n",
      "2\n",
      "2\n",
      "2\n",
      "2\n",
      "2\n",
      "2\n",
      "2\n",
      "2\n",
      "2\n",
      "2\n",
      "2\n",
      "2\n",
      "2\n",
      "2\n",
      "2\n",
      "2\n",
      "2\n",
      "2\n",
      "2\n",
      "2\n",
      "2\n",
      "2\n",
      "2\n",
      "2\n",
      "2\n",
      "2\n",
      "2\n",
      "2\n",
      "2\n",
      "2\n",
      "2\n",
      "2\n",
      "2\n",
      "2\n",
      "2\n",
      "2\n",
      "2\n",
      "2\n",
      "2\n",
      "2\n",
      "2\n",
      "2\n",
      "2\n",
      "2\n",
      "2\n",
      "2\n",
      "2\n",
      "2\n",
      "2\n",
      "2\n",
      "2\n",
      "2\n",
      "2\n",
      "2\n",
      "2\n",
      "2\n",
      "2\n",
      "2\n",
      "2\n",
      "2\n",
      "2\n",
      "2\n",
      "2\n",
      "2\n",
      "2\n",
      "2\n",
      "2\n",
      "2\n",
      "2\n",
      "2\n",
      "2\n",
      "2\n",
      "2\n",
      "2\n",
      "2\n",
      "2\n",
      "2\n",
      "2\n",
      "2\n",
      "2\n",
      "2\n",
      "2\n",
      "2\n",
      "2\n",
      "2\n",
      "2\n",
      "2\n",
      "2\n",
      "2\n",
      "2\n",
      "2\n",
      "2\n",
      "2\n",
      "2\n",
      "2\n",
      "2\n",
      "2\n",
      "2\n",
      "2\n",
      "2\n",
      "2\n",
      "2\n",
      "2\n",
      "2\n",
      "2\n",
      "2\n",
      "2\n",
      "2\n",
      "2\n",
      "2\n",
      "2\n",
      "2\n",
      "2\n",
      "2\n",
      "2\n",
      "2\n",
      "2\n",
      "2\n",
      "2\n",
      "2\n",
      "2\n",
      "2\n",
      "2\n",
      "2\n",
      "2\n",
      "2\n",
      "2\n",
      "2\n",
      "2\n",
      "2\n",
      "2\n",
      "2\n",
      "2\n",
      "2\n",
      "2\n",
      "2\n",
      "2\n",
      "2\n",
      "2\n",
      "2\n",
      "2\n",
      "2\n",
      "2\n",
      "2\n",
      "2\n",
      "2\n",
      "2\n",
      "2\n",
      "2\n",
      "2\n",
      "2\n",
      "2\n",
      "2\n",
      "2\n",
      "2\n",
      "2\n",
      "2\n",
      "2\n",
      "2\n",
      "2\n",
      "2\n",
      "2\n",
      "2\n",
      "2\n",
      "2\n",
      "2\n",
      "2\n",
      "2\n",
      "2\n",
      "2\n",
      "2\n",
      "2\n",
      "2\n",
      "2\n",
      "2\n",
      "2\n",
      "2\n",
      "2\n",
      "2\n",
      "2\n",
      "2\n",
      "2\n",
      "2\n",
      "2\n",
      "2\n",
      "2\n",
      "2\n",
      "2\n",
      "2\n",
      "2\n",
      "2\n",
      "2\n",
      "2\n",
      "2\n",
      "2\n",
      "2\n",
      "2\n",
      "2\n",
      "2\n",
      "2\n",
      "2\n",
      "2\n",
      "2\n",
      "2\n",
      "2\n",
      "2\n",
      "2\n",
      "2\n",
      "2\n",
      "2\n",
      "2\n",
      "2\n",
      "2\n",
      "2\n",
      "2\n",
      "2\n",
      "2\n",
      "2\n",
      "2\n",
      "2\n",
      "2\n",
      "2\n",
      "2\n",
      "2\n",
      "2\n",
      "2\n",
      "2\n",
      "2\n",
      "2\n",
      "2\n",
      "2\n",
      "2\n",
      "2\n",
      "2\n",
      "2\n",
      "2\n",
      "2\n",
      "2\n",
      "2\n",
      "2\n",
      "2\n",
      "2\n",
      "2\n",
      "2\n",
      "2\n",
      "2\n",
      "2\n",
      "2\n",
      "2\n",
      "2\n",
      "2\n",
      "2\n",
      "2\n",
      "2\n",
      "2\n",
      "2\n",
      "2\n",
      "2\n",
      "2\n",
      "2\n",
      "2\n",
      "2\n",
      "2\n",
      "2\n",
      "2\n",
      "2\n",
      "2\n",
      "2\n",
      "2\n",
      "2\n",
      "2\n",
      "2\n",
      "2\n",
      "2\n",
      "2\n",
      "2\n",
      "2\n",
      "2\n",
      "2\n",
      "2\n",
      "2\n",
      "2\n",
      "2\n",
      "2\n",
      "2\n",
      "2\n",
      "2\n",
      "2\n",
      "2\n",
      "2\n",
      "2\n",
      "2\n",
      "2\n",
      "2\n",
      "2\n",
      "2\n",
      "2\n",
      "2\n",
      "2\n",
      "2\n",
      "2\n",
      "2\n",
      "2\n",
      "2\n",
      "2\n",
      "2\n",
      "2\n",
      "2\n",
      "2\n",
      "2\n",
      "2\n",
      "2\n",
      "2\n",
      "2\n",
      "2\n",
      "2\n",
      "2\n",
      "2\n",
      "2\n",
      "2\n",
      "2\n",
      "2\n",
      "2\n",
      "2\n",
      "2\n",
      "2\n",
      "2\n",
      "2\n",
      "2\n",
      "2\n",
      "2\n",
      "2\n",
      "2\n",
      "2\n",
      "2\n",
      "2\n",
      "2\n",
      "2\n",
      "2\n",
      "2\n",
      "2\n",
      "2\n",
      "2\n",
      "2\n",
      "2\n",
      "2\n",
      "2\n",
      "2\n",
      "2\n",
      "2\n",
      "2\n",
      "2\n",
      "2\n",
      "2\n",
      "2\n",
      "2\n",
      "2\n",
      "2\n",
      "2\n",
      "2\n",
      "2\n",
      "2\n",
      "2\n",
      "2\n",
      "2\n",
      "2\n",
      "2\n",
      "2\n",
      "2\n",
      "2\n",
      "2\n",
      "2\n",
      "2\n",
      "2\n",
      "2\n",
      "2\n",
      "2\n",
      "2\n",
      "2\n",
      "2\n",
      "2\n",
      "2\n",
      "2\n",
      "2\n",
      "2\n",
      "2\n",
      "2\n",
      "2\n",
      "2\n",
      "2\n",
      "2\n",
      "2\n",
      "2\n",
      "2\n",
      "2\n",
      "2\n",
      "2\n",
      "2\n",
      "2\n",
      "2\n",
      "2\n",
      "2\n",
      "2\n",
      "2\n",
      "2\n",
      "2\n",
      "2\n",
      "2\n",
      "2\n",
      "2\n",
      "2\n",
      "2\n",
      "2\n",
      "2\n",
      "2\n",
      "2\n",
      "2\n",
      "2\n",
      "2\n",
      "2\n",
      "2\n",
      "2\n",
      "2\n",
      "2\n",
      "2\n",
      "2\n",
      "2\n",
      "2\n",
      "2\n",
      "2\n",
      "2\n",
      "2\n",
      "2\n",
      "2\n",
      "2\n",
      "2\n",
      "2\n",
      "2\n",
      "2\n",
      "2\n",
      "2\n",
      "2\n",
      "2\n",
      "2\n",
      "2\n",
      "2\n",
      "2\n",
      "2\n",
      "2\n",
      "2\n",
      "2\n",
      "2\n",
      "2\n",
      "2\n",
      "2\n",
      "2\n",
      "2\n",
      "2\n",
      "2\n",
      "2\n",
      "2\n",
      "2\n",
      "2\n",
      "Cursor Total: 1002\n",
      "Current total: 1002\n"
     ]
    }
   ],
   "source": [
    "# While Loops\n",
    "\n",
    "x = 2\n",
    "total = 0\n",
    "\n",
    "while x > 0:\n",
    "    print(x)\n",
    "    if total > 1000:\n",
    "        print(\"Cursor Total:\", total)\n",
    "        break\n",
    "    total = total + x\n",
    "    # x = x // 2\n",
    "print(\"Current total:\", total)"
   ]
  },
  {
   "cell_type": "code",
   "execution_count": 30,
   "id": "cf9a55db",
   "metadata": {},
   "outputs": [],
   "source": [
    "x = 0\n",
    "\n",
    "if x < 0:\n",
    "    print(\"Negative value encountered:\", x)\n",
    "elif x == 0:\n",
    "    # TODO: No Idea\n",
    "    pass\n",
    "else:\n",
    "    print(\"x is positive and greater than zero\")"
   ]
  },
  {
   "cell_type": "code",
   "execution_count": 32,
   "id": "46f6f916",
   "metadata": {},
   "outputs": [
    {
     "name": "stdout",
     "output_type": "stream",
     "text": [
      "element 0\n",
      "element -1\n",
      "element -2\n",
      "element -3\n",
      "element -4\n",
      "element -5\n",
      "element -6\n",
      "element -7\n",
      "element -8\n",
      "element -9\n"
     ]
    }
   ],
   "source": [
    "for i in range(0,-10,-1):\n",
    "    print(f\"element {i}\")"
   ]
  },
  {
   "cell_type": "code",
   "execution_count": 33,
   "id": "6e05badf",
   "metadata": {},
   "outputs": [
    {
     "name": "stdout",
     "output_type": "stream",
     "text": [
      "element:0, 1\n",
      "element:1, 2\n",
      "element:2, 3\n",
      "element:3, 4\n",
      "element:4, 5\n"
     ]
    }
   ],
   "source": [
    "sequence = [1, 2, 3, 4, 5]\n",
    "\n",
    "for i in range(len(sequence)):\n",
    "    print(f\"element:{i}, {sequence[i]}\")"
   ]
  },
  {
   "cell_type": "code",
   "execution_count": 37,
   "id": "1bd3cea1",
   "metadata": {},
   "outputs": [
    {
     "name": "stdout",
     "output_type": "stream",
     "text": [
      "2333316668\n"
     ]
    }
   ],
   "source": [
    "total = 0\n",
    "\n",
    "for i in range(100_000):\n",
    "    if i % 3 == 0 or i % 5 == 0:\n",
    "        total = total + i\n",
    "\n",
    "print(total)"
   ]
  },
  {
   "cell_type": "code",
   "execution_count": 55,
   "id": "86d5b278",
   "metadata": {},
   "outputs": [
    {
     "name": "stdout",
     "output_type": "stream",
     "text": [
      "Tuples are equal\n",
      "<class 'list'>\n",
      "<class 'tuple'>\n",
      "(1, 2, 3) \n",
      " (1, 2, 3) \n",
      " (4, 0, 2)\n"
     ]
    }
   ],
   "source": [
    "tup = (1, 2, 3)\n",
    "\n",
    "tup\n",
    "\n",
    "tupb = 1,2,3\n",
    "\n",
    "if tup == tupb:\n",
    "    print(\"Tuples are equal\")\n",
    "\n",
    "data = [4,0,2]\n",
    "\n",
    "type(data)\n",
    "print(type(data))\n",
    "\n",
    "\n",
    "print(type(tuple(data)))\n",
    "\n",
    "nested_tuple = (tup, tupb, tuple(data))\n",
    "print(nested_tuple[0],'\\n',nested_tuple[1],'\\n',nested_tuple[2])"
   ]
  },
  {
   "cell_type": "code",
   "execution_count": 62,
   "id": "1ef04a8f",
   "metadata": {},
   "outputs": [
    {
     "name": "stdout",
     "output_type": "stream",
     "text": [
      "('Foo', [1, 2, 3], True)\n",
      "('Foo', [1, 2, 3, 5], True, 'Foo', [1, 2, 3, 5], True, 'Foo', [1, 2, 3, 5], True, 'Foo', [1, 2, 3, 5], True)\n",
      "('Foo', [1, 2, 3, 5], True, 'Foo', [1, 2, 3, 5], True)\n"
     ]
    }
   ],
   "source": [
    "tuple_data = ('Foo',[1,2,3],True)\n",
    "print(tuple_data)\n",
    "\n",
    "tuple_data[1].append(5)\n",
    "print(tuple_data * 4) # Tuple Multiplication\n",
    "print(tuple_data + tuple_data) # Tuple Concatenation"
   ]
  },
  {
   "cell_type": "code",
   "execution_count": 70,
   "id": "c80a3889",
   "metadata": {},
   "outputs": [
    {
     "name": "stdout",
     "output_type": "stream",
     "text": [
      "5\n",
      "6\n",
      "8\n",
      "(9, 10)\n",
      "9\n"
     ]
    }
   ],
   "source": [
    "# Tuple unpacking\n",
    "\n",
    "tup = (4,5,6)\n",
    "\n",
    "a, b, c = tup\n",
    "\n",
    "print(b)\n",
    "\n",
    "print(c)\n",
    "\n",
    "\n",
    "tup_b = (7,8,(9,10))\n",
    "\n",
    "d, e, f = tup_b\n",
    "\n",
    "print(e)\n",
    "\n",
    "print(f) # Nested Tuple unpacking\n",
    "print(f[0]) # Accessing element from nested tuple"
   ]
  },
  {
   "cell_type": "code",
   "execution_count": 73,
   "id": "54b99850",
   "metadata": {},
   "outputs": [
    {
     "name": "stdout",
     "output_type": "stream",
     "text": [
      "1\n",
      "2\n",
      "After Swap\n",
      "2\n",
      "1\n"
     ]
    }
   ],
   "source": [
    "a, b = 1, 2\n",
    "\n",
    "print(a)\n",
    "print(b)\n",
    "\n",
    "print(\"After Swap\")\n",
    "\n",
    "b, a = a, b\n",
    "print(a)\n",
    "print(b)"
   ]
  },
  {
   "cell_type": "code",
   "execution_count": 74,
   "id": "a276116a",
   "metadata": {},
   "outputs": [
    {
     "name": "stdout",
     "output_type": "stream",
     "text": [
      "a=1, b=2\n",
      "a=3, b=4\n",
      "a=5, b=6\n"
     ]
    }
   ],
   "source": [
    "sequence = [(1, 2), (3, 4), (5, 6)]\n",
    "\n",
    "for a, b in sequence:\n",
    "    print(f'a={a}, b={b}')"
   ]
  },
  {
   "cell_type": "code",
   "execution_count": 75,
   "id": "25d8c689",
   "metadata": {},
   "outputs": [
    {
     "name": "stdout",
     "output_type": "stream",
     "text": [
      "1\n",
      "2\n",
      "[3, 4, 5]\n"
     ]
    }
   ],
   "source": [
    "values = 1, 2, 3, 4, 5\n",
    "\n",
    "a, b, *rest = values\n",
    "\n",
    "print(a)\n",
    "print(b)\n",
    "print(rest)"
   ]
  },
  {
   "cell_type": "code",
   "execution_count": 76,
   "id": "84ee495f",
   "metadata": {},
   "outputs": [
    {
     "data": {
      "text/plain": [
       "2"
      ]
     },
     "execution_count": 76,
     "metadata": {},
     "output_type": "execute_result"
    }
   ],
   "source": [
    "sequence_tuple = (1, 2, 3, 3,4, 5, 6)\n",
    "\n",
    "sequence_tuple.count(3)  # Counts how many times 3 appears in the tuple"
   ]
  },
  {
   "cell_type": "code",
   "execution_count": null,
   "id": "3157c46a",
   "metadata": {},
   "outputs": [
    {
     "name": "stdout",
     "output_type": "stream",
     "text": [
      "range(0, 10)\n",
      "[0, 1, 2, 3, 4, 5, 6, 7, 8, 9]\n"
     ]
    }
   ],
   "source": [
    "gen = range(10)\n",
    "\n",
    "print(list(gen))"
   ]
  },
  {
   "cell_type": "code",
   "execution_count": 105,
   "id": "558b2096",
   "metadata": {},
   "outputs": [
    {
     "name": "stdout",
     "output_type": "stream",
     "text": [
      "[0, 1, 2, 3, 4, 5, 6, 7, 8, 9]\n",
      "[0, 1, 2, 3, 4, 5, 6, 7, 8, 9, 10]\n",
      "[-1, 0, 1, 2, 3, 4, 5, 6, 7, 8, 9, 10]\n",
      "[0, 1, 2, 3, 4, 5, 6, 7, 8, 9, 10]\n",
      "[0, 1, 2, 4, 5, 6, 7, 8, 9, 10]\n",
      "[0, 1, 2, 4, 5, 6, 7, 8, 9, 10, 11, 12, 13]\n",
      "[0, 1, 2, 4, 3, 5, 6, 7, 8, 9, 10, 11, 12, 13]\n",
      "[0, 1, 2, 4, 3, 5, 6, 7, 8, 9, 10, 11, 12, 13, 14, 15]\n"
     ]
    }
   ],
   "source": [
    "sequence = list(gen)\n",
    "print(sequence)\n",
    "\n",
    "\n",
    "# difference between append and insert\n",
    "sequence.append(10) # Appends 10 to the end of the list\n",
    "print(sequence)\n",
    "\n",
    "sequence.insert(0,-1) # Inserts -1 at the beginning of the list\n",
    "print(sequence)\n",
    "\n",
    "\n",
    "sequence.pop(0) # Removes the first item in the list, 0 indicates the index\n",
    "print(sequence)\n",
    "\n",
    "\n",
    "sequence.remove(3) # Removes the first occurrence of 3 in the list\n",
    "print(sequence)\n",
    "\n",
    "\n",
    "# Check for membership\n",
    "10 in sequence\n",
    "15 in sequence\n",
    "\n",
    "\n",
    "sequence.extend([11,12,13]) # Extends the list by appending elements from the iterable\n",
    "print(sequence)\n",
    "\n",
    "sequence.insert(4, 3) # Inserts 3 at index 4 of the list\n",
    "print(sequence)\n",
    "\n",
    "# You can also concatenate lists\n",
    "sequence = sequence + [14, 15]\n",
    "print(sequence)\n",
    "\n",
    "sequence.sort()\n"
   ]
  },
  {
   "cell_type": "code",
   "execution_count": 103,
   "id": "506bbcc5",
   "metadata": {},
   "outputs": [
    {
     "name": "stdout",
     "output_type": "stream",
     "text": [
      "['Canary', 'Finch', 'Hen', 'Peacock', 'Sparrow']\n",
      "['Hen', 'Finch', 'Canary', 'Peacock', 'Sparrow']\n",
      "['Finch', 'Canary']\n",
      "['Peacock', 'Sparrow']\n",
      "['Hen', 'Finch', 'Canary']\n"
     ]
    }
   ],
   "source": [
    "b = [\"Hen\", \"Peacock\", \"Sparrow\", \"Canary\", \"Finch\"]\n",
    "\n",
    "b.sort() # Sorts the list in ascending order\n",
    "print(b)\n",
    "\n",
    "b.sort(key=len) # Sorts the list based on the length of the string\n",
    "print(b)\n",
    "\n",
    "print(b[1:3]) # Slicing the list to get elements from index 1 to 2\n",
    "\n",
    "print(b[3:]) # Slicing the list to get elements from index 3 to the end\n",
    "\n",
    "print(b[:3]) # Slicing the list to get elements from index 1 to 2"
   ]
  },
  {
   "cell_type": "code",
   "execution_count": null,
   "id": "e366fe00",
   "metadata": {},
   "outputs": [
    {
     "name": "stdout",
     "output_type": "stream",
     "text": [
      "[0, 1, 6, 3, 6, 7, 8, 9, 10, 11, 12, 13, 14, 15]\n"
     ]
    }
   ],
   "source": [
    "\n",
    "sequence[2:5] = [6,3]\n",
    "\n",
    "print(sequence)\n",
    "\n"
   ]
  },
  {
   "cell_type": "code",
   "execution_count": 19,
   "id": "1c2be731",
   "metadata": {},
   "outputs": [
    {
     "name": "stdout",
     "output_type": "stream",
     "text": [
      "100\n",
      "{'name': 'John', 'city': 'New York', 'b': 100}\n",
      "dict_keys(['name', 'city', 'b'])\n",
      "dict_values(['John', 'New York', 100])\n",
      "dict_items([('name', 'John'), ('city', 'New York'), ('b', 100)])\n"
     ]
    }
   ],
   "source": [
    "# Dictonaries\n",
    "\n",
    "d1 = {\n",
    "    'name': 'John',\n",
    "    'age': 30,\n",
    "    'city': 'New York',\n",
    "    'b': 100\n",
    "}\n",
    "\n",
    "\n",
    "\n",
    "\n",
    "print(d1['b'])\n",
    "\n",
    "\n",
    "'b' in d1\n",
    "\n",
    "\n",
    "d1[5] = 'Some Value'\n",
    "d1\n",
    "\n",
    "\n",
    "del d1[5]\n",
    "\n",
    "d1\n",
    "\n",
    "\n",
    "mod_d1 = d1.pop('age') # Removes the key 'age' and returns its value\n",
    "\n",
    "mod_d1\n",
    "d1\n",
    "\n",
    "print(d1) # The current state of the dictionary\n",
    "print(d1.keys()) # The keys in the dictionary\n",
    "print(d1.values()) # The values in the dictionary\n",
    "print(d1.items()) # The key-value pairs in the dictionary"
   ]
  },
  {
   "cell_type": "code",
   "execution_count": 20,
   "id": "bf764812",
   "metadata": {},
   "outputs": [
    {
     "data": {
      "text/plain": [
       "{'name': 'John', 'city': 'Los Angeles', 'b': 100, 'age': 31, 'country': 'USA'}"
      ]
     },
     "execution_count": 20,
     "metadata": {},
     "output_type": "execute_result"
    }
   ],
   "source": [
    "d1.update({'age': 31, 'city': 'Los Angeles', 'country': 'USA'}) # Updates the dictionary with new key-value pairs\n",
    "# the update method adds new key-value pairs to the dictionary or updates existing ones\n",
    "d1"
   ]
  },
  {
   "cell_type": "code",
   "execution_count": 24,
   "id": "31afcf43",
   "metadata": {},
   "outputs": [
    {
     "name": "stdout",
     "output_type": "stream",
     "text": [
      "{1: 'a'}\n",
      "{1: 'a', 2: 'b'}\n",
      "{1: 'a', 2: 'b', 3: 'c'}\n"
     ]
    }
   ],
   "source": [
    "seq1 = [1,2,3]\n",
    "seq2 = ['a','b','c']\n",
    "\n",
    "mapping = {}\n",
    "\n",
    "for key, value in zip(seq1, seq2):\n",
    "    mapping[key] = value\n",
    "    print(mapping)\n",
    "# This demonstrates how to create a dictionary from two sequences"
   ]
  },
  {
   "cell_type": "code",
   "execution_count": 25,
   "id": "216e81a4",
   "metadata": {},
   "outputs": [
    {
     "name": "stdout",
     "output_type": "stream",
     "text": [
      "{4: 'd'}\n",
      "{4: 'd', 5: 'e'}\n",
      "{4: 'd', 5: 'e', 6: 'f'}\n"
     ]
    }
   ],
   "source": [
    "tuple1 = (4,5,6)\n",
    "tuple2 = ('d','e','f')\n",
    "\n",
    "mapping = {}\n",
    "\n",
    "for key, value in zip(tuple1, tuple2):\n",
    "    mapping[key] = value\n",
    "    print(mapping)\n",
    "# This demonstrates how to create a dictionary from two sequences"
   ]
  },
  {
   "cell_type": "code",
   "execution_count": 28,
   "id": "e1a44a2b",
   "metadata": {},
   "outputs": [
    {
     "name": "stdout",
     "output_type": "stream",
     "text": [
      "<zip object at 0x0000023ED848C340>\n",
      "{4: 'd', 5: 'e', 6: 'f'}\n"
     ]
    }
   ],
   "source": [
    "tuple1 = (4,5,6)\n",
    "tuple2 = ('d','e','f')\n",
    "\n",
    "print(zip(tuple1, tuple2))\n",
    "\n",
    "mapping = dict(zip(tuple1, tuple2))\n",
    "\n",
    "print(mapping)"
   ]
  },
  {
   "cell_type": "code",
   "execution_count": 7,
   "id": "19104541",
   "metadata": {},
   "outputs": [
    {
     "name": "stdout",
     "output_type": "stream",
     "text": [
      "{'T': ['This'], 'i': ['is'], 'a': ['a', 'a'], 'l': ['list'], 'o': ['of'], 'w': ['words'], 'I': ['In'], 'P': ['Python'], 'D': ['Dictionary']}\n",
      "{'T': ['This'], 'i': ['is'], 'a': ['a', 'a'], 'l': ['list'], 'o': ['of'], 'w': ['words'], 'I': ['In'], 'P': ['Python'], 'D': ['Dictionary']}\n",
      "['B', 'a', 'b', 'a', 't', 'u', 'n', 'd', 'e']\n",
      "{'B': 1, 'a': 2, 'b': 1, 't': 1, 'u': 1, 'n': 1, 'd': 1, 'e': 1}\n"
     ]
    }
   ],
   "source": [
    "words = ['This', 'is', 'a', 'list', 'of', 'words', 'In', 'a', 'Python', 'Dictionary']\n",
    "\n",
    "by_letter = {}\n",
    "\n",
    "# This loop takes each word in the words list and groups them by their first letter by slicing the first character from each word and using it as a key in the by_letter dictionary\n",
    "# The if statement checks if the letter is already a key in the dictionary, and if not, it creates a new list for that letter\n",
    "for word in words:\n",
    "    letter = word[0]\n",
    "    if letter not in by_letter:\n",
    "        by_letter[letter] = [word]\n",
    "    else:\n",
    "        by_letter[letter].append(word)\n",
    "\n",
    "print(by_letter)\n",
    "\n",
    "\n",
    "\"\"\"\n",
    ".setdefault(letter, []) checks if the dictionary already has a key called 'letter'.\n",
    "If it does, it returns the value for that key. If it doesn’t, it creates a new key called 'letter' and sets its value to an empty list ([]), then returns that list.\n",
    "This lets you safely add items to the list for each letter without worrying if the key exists yet.\n",
    "\"\"\"\n",
    "by_letter2 = {}\n",
    "# Using .setdefault()\n",
    "for word in words:\n",
    "    letter = word[0]\n",
    "    by_letter2.setdefault(letter, []).append(word)\n",
    "\n",
    "print(by_letter2)\n",
    "\n",
    "\n",
    "\n",
    "\n",
    "name = 'Babatunde'\n",
    "\n",
    "name_list = list(name)\n",
    "\n",
    "print(name_list)\n",
    "\n",
    "name_dict = {}\n",
    "\n",
    "for letter in name_list:\n",
    "    name_dict[letter] = name_list.count(letter)\n",
    "\n",
    "print(name_dict)"
   ]
  }
 ],
 "metadata": {
  "kernelspec": {
   "display_name": "pydata-book",
   "language": "python",
   "name": "python3"
  },
  "language_info": {
   "codemirror_mode": {
    "name": "ipython",
    "version": 3
   },
   "file_extension": ".py",
   "mimetype": "text/x-python",
   "name": "python",
   "nbconvert_exporter": "python",
   "pygments_lexer": "ipython3",
   "version": "3.10.18"
  }
 },
 "nbformat": 4,
 "nbformat_minor": 5
}
