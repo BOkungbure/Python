{
 "cells": [
  {
   "cell_type": "markdown",
   "id": "e2ace3c8",
   "metadata": {},
   "source": [
    "#Python Practise"
   ]
  }
 ],
 "metadata": {
  "language_info": {
   "name": "python"
  }
 },
 "nbformat": 4,
 "nbformat_minor": 5
}
