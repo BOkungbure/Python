{
 "cells": [
  {
   "cell_type": "markdown",
   "id": "e2ace3c8",
   "metadata": {},
   "source": [
    "#Python Practise"
   ]
  },
  {
   "cell_type": "code",
   "execution_count": 1,
   "id": "e2a5f6c6",
   "metadata": {},
   "outputs": [
    {
     "name": "stdout",
     "output_type": "stream",
     "text": [
      "Variable a is of Type <class 'float'>, while variable b is of type <class 'int'>\n",
      "Division of a by b results in type: <class 'float'>, the result is 0.75\n"
     ]
    },
    {
     "data": {
      "text/plain": [
       "True"
      ]
     },
     "execution_count": 1,
     "metadata": {},
     "output_type": "execute_result"
    }
   ],
   "source": [
    "a = 4.5\n",
    "b = 6\n",
    "\n",
    "print(f'Variable a is of Type {type(a)}, while variable b is of type {type(b)}')\n",
    "\n",
    "\n",
    "print(f'Division of a by b results in type: {type(a/b)}, the result is {a/b}')\n",
    "\n",
    "\n",
    "isinstance(a, (str, dict, int, float))"
   ]
  },
  {
   "cell_type": "code",
   "execution_count": 2,
   "id": "8733baf5",
   "metadata": {},
   "outputs": [
    {
     "name": "stdout",
     "output_type": "stream",
     "text": [
      "Now printing the contents of the data variable:{data}\n",
      "[1, 2, 3]\n",
      "Now printing the contents of the b variable:{b}\n",
      "[1, 2, 3]\n",
      "[1, 2, 3, 6]\n"
     ]
    }
   ],
   "source": [
    "data = [1,2,3]\n",
    "\n",
    "print(f'Now printing the contents of the ''data'' variable:{data}')\n",
    "print(data)\n",
    "\n",
    "\n",
    "b = data\n",
    "\n",
    "\n",
    "print(f'Now printing the contents of the ''b'' variable:{b}')\n",
    "\n",
    "print(b)\n",
    "\n",
    "data.append(6)\n",
    "\n",
    "print(b)\n"
   ]
  },
  {
   "cell_type": "code",
   "execution_count": 3,
   "id": "ea517ba9",
   "metadata": {},
   "outputs": [
    {
     "name": "stdout",
     "output_type": "stream",
     "text": [
      "\n",
      "The following are mutable\n",
      "--------------------------\n",
      "- Lists\n",
      "- Dictionaries\n",
      "- NumPy Arrays\n",
      "\n",
      "The following are not mutable\n",
      "------------------------------\n",
      "- Strings\n",
      "- Tuples\n",
      "- Frozensets\n",
      "- Namedtuples\n",
      "- Dataclasses\n",
      "\n"
     ]
    }
   ],
   "source": [
    "# String Methods\n",
    "\n",
    "a = \"Hello, World!\"\n",
    "\n",
    "b = \"\"\"\n",
    "The following are mutable\n",
    "--------------------------\n",
    "- Lists\n",
    "- Dictionaries\n",
    "- NumPy Arrays\n",
    "\n",
    "The following are not mutable\n",
    "------------------------------\n",
    "- Strings\n",
    "- Tuples\n",
    "- Frozensets\n",
    "- Namedtuples\n",
    "- Dataclasses\n",
    "\"\"\"          \n",
    "\n",
    "print(b)"
   ]
  },
  {
   "cell_type": "code",
   "execution_count": 4,
   "id": "16227a0d",
   "metadata": {},
   "outputs": [],
   "source": [
    "def add_and_maybe_multiply (a, b, c=None):\n",
    "    \"\"\"    This is a test to see what is in doc strings\n",
    "    \"\"\"\n",
    "    result = a + b\n",
    "    if c is not None:\n",
    "        result = result * c\n",
    "    return result"
   ]
  },
  {
   "cell_type": "code",
   "execution_count": 5,
   "id": "273e510d",
   "metadata": {},
   "outputs": [
    {
     "data": {
      "text/plain": [
       "'    This is a test to see what is in doc strings\\n    '"
      ]
     },
     "execution_count": 5,
     "metadata": {},
     "output_type": "execute_result"
    }
   ],
   "source": [
    "add_and_maybe_multiply.__doc__"
   ]
  },
  {
   "cell_type": "code",
   "execution_count": 6,
   "id": "76e0d537",
   "metadata": {},
   "outputs": [
    {
     "data": {
      "text/plain": [
       "615"
      ]
     },
     "execution_count": 6,
     "metadata": {},
     "output_type": "execute_result"
    }
   ],
   "source": [
    "add_and_maybe_multiply(2,3,123)"
   ]
  },
  {
   "cell_type": "code",
   "execution_count": 7,
   "id": "736606c7",
   "metadata": {},
   "outputs": [],
   "source": [
    "from datetime import datetime, date, time"
   ]
  },
  {
   "cell_type": "code",
   "execution_count": 8,
   "id": "af7295ee",
   "metadata": {},
   "outputs": [
    {
     "name": "stdout",
     "output_type": "stream",
     "text": [
      "2020-05-17 12:30:45\n",
      "2020-05-17\n",
      "12:30:45\n",
      "17\n",
      "5\n",
      "2020\n",
      "-----------------------\n",
      "2020-05-17 12:30\n"
     ]
    }
   ],
   "source": [
    "dt = datetime(2020, 5, 17, 12, 30, 45)\n",
    "print(dt)\n",
    "print(dt.date())\n",
    "print(dt.time())\n",
    "print(dt.day)\n",
    "print(dt.month)\n",
    "print(dt.year)\n",
    "\n",
    "\n",
    "print(\"-----------------------\")\n",
    "\n",
    "print(dt.strftime(\"%Y-%m-%d %H:%M\"))"
   ]
  },
  {
   "cell_type": "code",
   "execution_count": 13,
   "id": "5e85eb91",
   "metadata": {},
   "outputs": [
    {
     "name": "stdout",
     "output_type": "stream",
     "text": [
      "-----------------------\n",
      "2020-05-17 12:30:45\n"
     ]
    }
   ],
   "source": [
    "dt.strptime(\"202005\", \"%Y%m\")\n",
    "\n",
    "print(\"-----------------------\")\n",
    "\n",
    "dt.replace(year=2021, month=6, day=18, hour=14, minute=45, second=30)\n",
    "print(dt)"
   ]
  },
  {
   "cell_type": "code",
   "execution_count": 17,
   "id": "6bacbfb9",
   "metadata": {},
   "outputs": [
    {
     "name": "stdout",
     "output_type": "stream",
     "text": [
      "183 days, 0:00:00\n",
      "2026-03-10 00:00:00\n"
     ]
    }
   ],
   "source": [
    "dt1 = datetime(2025, 3, 9)\n",
    "dt2 = datetime(2025, 9, 8)\n",
    "\n",
    "delta = dt2 - dt1\n",
    "print(delta)\n",
    "\n",
    "dt3 = dt2 + delta\n",
    "dt3\n",
    "print(dt3)"
   ]
  }
 ],
 "metadata": {
  "kernelspec": {
   "display_name": "pydata-book",
   "language": "python",
   "name": "python3"
  },
  "language_info": {
   "codemirror_mode": {
    "name": "ipython",
    "version": 3
   },
   "file_extension": ".py",
   "mimetype": "text/x-python",
   "name": "python",
   "nbconvert_exporter": "python",
   "pygments_lexer": "ipython3",
   "version": "3.10.18"
  }
 },
 "nbformat": 4,
 "nbformat_minor": 5
}
