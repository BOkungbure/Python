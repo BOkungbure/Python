{
 "cells": [
  {
   "cell_type": "code",
   "execution_count": 2,
   "id": "a9d43095",
   "metadata": {},
   "outputs": [
    {
     "name": "stdout",
     "output_type": "stream",
     "text": [
      "['a', 'b', 'd', 'e', 'h', 'i', 'l', 'm', 'n', 'o', 'r', 't', 'u', 'w', 'y'] 15\n",
      "{'o', 'a', 'l', 'y', 'm', 'n', 'b', 'd', 'e', 'u', 'h', 'r', 'i', 'w', 't'}\n",
      "['a', 'b', 'd', 'e', 'h', 'i', 'l', 'm', 'n', 'o', 'r', 't', 'u', 'w', 'y'] 15\n",
      "[2, 3, 5, 7, 10, 20, 31] 7\n"
     ]
    }
   ],
   "source": [
    "all_names = [\n",
    "    \"Babatunde\",\n",
    "    \"Oluwayomi\",\n",
    "    \"Onome\",\n",
    "    \"Martha\",\n",
    "    \"Ariireoluwa\",\n",
    "    \"Elianna\",\n",
    "    \"Oluwadaara\",\n",
    "    \"Nathanael\"\n",
    "]\n",
    "\n",
    "birth_numbers = [\n",
    "    31, 3, 10, 20, 5, 7, 2, 3\n",
    "]\n",
    "\n",
    "unique_letters2 = []\n",
    "\n",
    "for name in all_names:\n",
    "    for letter in name:\n",
    "        if letter.lower() not in unique_letters2:\n",
    "            unique_letters2.append(letter.lower())\n",
    "\n",
    "unique_letters2.sort()\n",
    "print(unique_letters2, len(unique_letters2))\n",
    "\n",
    "unique_letters = {letter.lower() for name in all_names for letter in name}\n",
    "print(unique_letters)\n",
    "\n",
    "unique_letters = list(unique_letters)\n",
    "\n",
    "unique_letters.sort()\n",
    "print(unique_letters, len(unique_letters))\n",
    "\n",
    "unique_birth_numbers = {x for x in birth_numbers}\n",
    "unique_birth_numbers = list(unique_birth_numbers)\n",
    "unique_birth_numbers.sort()\n",
    "print(unique_birth_numbers, len(unique_birth_numbers))"
   ]
  },
  {
   "cell_type": "code",
   "execution_count": 5,
   "id": "f97304da",
   "metadata": {},
   "outputs": [
    {
     "name": "stdout",
     "output_type": "stream",
     "text": [
      "['Onome', 'Martha', 'Elianna', 'Oluwadaara', 'Nathanael', 'Babatunde', 'Oluwayomi', 'Ariireoluwa']\n"
     ]
    },
    {
     "ename": "TypeError",
     "evalue": "unhashable type: 'set'",
     "output_type": "error",
     "traceback": [
      "\u001b[1;31m---------------------------------------------------------------------------\u001b[0m",
      "\u001b[1;31mTypeError\u001b[0m                                 Traceback (most recent call last)",
      "Cell \u001b[1;32mIn[5], line 8\u001b[0m\n\u001b[0;32m      5\u001b[0m \u001b[38;5;28;01mdef\u001b[39;00m\u001b[38;5;250m \u001b[39m\u001b[38;5;21munique_characters\u001b[39m(strings, f):\n\u001b[0;32m      6\u001b[0m     \u001b[38;5;28;01mreturn\u001b[39;00m {f(s) \u001b[38;5;28;01mfor\u001b[39;00m s \u001b[38;5;129;01min\u001b[39;00m strings}\n\u001b[1;32m----> 8\u001b[0m \u001b[43munique_characters\u001b[49m\u001b[43m(\u001b[49m\u001b[43mall_names\u001b[49m\u001b[43m,\u001b[49m\u001b[43m \u001b[49m\u001b[38;5;28;43;01mlambda\u001b[39;49;00m\u001b[43m \u001b[49m\u001b[43mname\u001b[49m\u001b[43m:\u001b[49m\u001b[43m \u001b[49m\u001b[38;5;28;43mset\u001b[39;49m\u001b[43m(\u001b[49m\u001b[43mname\u001b[49m\u001b[43m)\u001b[49m\u001b[43m)\u001b[49m\n",
      "Cell \u001b[1;32mIn[5], line 6\u001b[0m, in \u001b[0;36munique_characters\u001b[1;34m(strings, f)\u001b[0m\n\u001b[0;32m      5\u001b[0m \u001b[38;5;28;01mdef\u001b[39;00m\u001b[38;5;250m \u001b[39m\u001b[38;5;21munique_characters\u001b[39m(strings, f):\n\u001b[1;32m----> 6\u001b[0m     \u001b[38;5;28;01mreturn\u001b[39;00m {f(s) \u001b[38;5;28;01mfor\u001b[39;00m s \u001b[38;5;129;01min\u001b[39;00m strings}\n",
      "Cell \u001b[1;32mIn[5], line 6\u001b[0m, in \u001b[0;36m<setcomp>\u001b[1;34m(.0)\u001b[0m\n\u001b[0;32m      5\u001b[0m \u001b[38;5;28;01mdef\u001b[39;00m\u001b[38;5;250m \u001b[39m\u001b[38;5;21munique_characters\u001b[39m(strings, f):\n\u001b[1;32m----> 6\u001b[0m     \u001b[38;5;28;01mreturn\u001b[39;00m {f(s) \u001b[38;5;28;01mfor\u001b[39;00m s \u001b[38;5;129;01min\u001b[39;00m strings}\n",
      "\u001b[1;31mTypeError\u001b[0m: unhashable type: 'set'"
     ]
    }
   ],
   "source": [
    "all_names.sort(key= lambda name: len(set(name)))\n",
    "print(all_names)\n",
    "\n",
    "\n",
    "def unique_characters(strings, f):\n",
    "    return {f(s) for s in strings}\n",
    "\n",
    "unique_characters(all_names, lambda name: set(name))"
   ]
  }
 ],
 "metadata": {
  "kernelspec": {
   "display_name": "pydata-book",
   "language": "python",
   "name": "python3"
  },
  "language_info": {
   "codemirror_mode": {
    "name": "ipython",
    "version": 3
   },
   "file_extension": ".py",
   "mimetype": "text/x-python",
   "name": "python",
   "nbconvert_exporter": "python",
   "pygments_lexer": "ipython3",
   "version": "3.10.18"
  }
 },
 "nbformat": 4,
 "nbformat_minor": 5
}
