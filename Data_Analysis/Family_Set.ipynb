{
 "cells": [
  {
   "cell_type": "code",
   "execution_count": 13,
   "id": "a9d43095",
   "metadata": {},
   "outputs": [
    {
     "name": "stdout",
     "output_type": "stream",
     "text": [
      "['a', 'b', 'd', 'e', 'h', 'i', 'l', 'm', 'n', 'o', 'r', 't', 'u', 'w', 'y'] 15\n",
      "{'y', 'e', 'm', 'r', 'l', 'w', 'a', 't', 'o', 'i', 'n', 'u', 'b', 'h', 'd'}\n",
      "['a', 'b', 'd', 'e', 'h', 'i', 'l', 'm', 'n', 'o', 'r', 't', 'u', 'w', 'y'] 15\n",
      "[2, 3, 5, 7, 10, 20, 31] 7\n"
     ]
    }
   ],
   "source": [
    "all_names = [\n",
    "    \"Babatunde\",\n",
    "    \"Oluwayomi\",\n",
    "    \"Onome\",\n",
    "    \"Martha\",\n",
    "    \"Ariireoluwa\",\n",
    "    \"Elianna\",\n",
    "    \"Oluwadaara\",\n",
    "    \"Nathanael\"\n",
    "]\n",
    "\n",
    "birth_numbers = [\n",
    "    31, 3, 10, 20, 5, 7, 2, 3\n",
    "]\n",
    "\n",
    "unique_letters2 = []\n",
    "\n",
    "for name in all_names:\n",
    "    for letter in name:\n",
    "        if letter.lower() not in unique_letters2:\n",
    "            unique_letters2.append(letter.lower())\n",
    "\n",
    "unique_letters2.sort()\n",
    "print(unique_letters2, len(unique_letters2))\n",
    "\n",
    "unique_letters = {letter.lower() for name in all_names for letter in name}\n",
    "print(unique_letters)\n",
    "\n",
    "unique_letters = list(unique_letters)\n",
    "\n",
    "unique_letters.sort()\n",
    "print(unique_letters, len(unique_letters))\n",
    "\n",
    "unique_birth_numbers = {x for x in birth_numbers}\n",
    "unique_birth_numbers = list(unique_birth_numbers)\n",
    "unique_birth_numbers.sort()\n",
    "print(unique_birth_numbers, len(unique_birth_numbers))"
   ]
  },
  {
   "cell_type": "code",
   "execution_count": null,
   "id": "f97304da",
   "metadata": {},
   "outputs": [],
   "source": [
    "\n"
   ]
  }
 ],
 "metadata": {
  "kernelspec": {
   "display_name": "pydata-book",
   "language": "python",
   "name": "python3"
  },
  "language_info": {
   "codemirror_mode": {
    "name": "ipython",
    "version": 3
   },
   "file_extension": ".py",
   "mimetype": "text/x-python",
   "name": "python",
   "nbconvert_exporter": "python",
   "pygments_lexer": "ipython3",
   "version": "3.10.18"
  }
 },
 "nbformat": 4,
 "nbformat_minor": 5
}
